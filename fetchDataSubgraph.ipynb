{
  "nbformat": 4,
  "nbformat_minor": 0,
  "metadata": {
    "colab": {
      "name": "fetchDataSubgraph.ipynb",
      "provenance": [],
      "authorship_tag": "ABX9TyOjFaaAoiwv+1dlCegJIdS5",
      "include_colab_link": true
    },
    "kernelspec": {
      "name": "python3",
      "display_name": "Python 3"
    },
    "language_info": {
      "name": "python"
    }
  },
  "cells": [
    {
      "cell_type": "markdown",
      "metadata": {
        "id": "view-in-github",
        "colab_type": "text"
      },
      "source": [
        "<a href=\"https://colab.research.google.com/github/parth1614/Qyery-Subgraph-Python-Script/blob/main/fetchDataSubgraph.ipynb\" target=\"_parent\"><img src=\"https://colab.research.google.com/assets/colab-badge.svg\" alt=\"Open In Colab\"/></a>"
      ]
    },
    {
      "cell_type": "code",
      "execution_count": 16,
      "metadata": {
        "colab": {
          "base_uri": "https://localhost:8080/"
        },
        "id": "rsg_6m4_TyHM",
        "outputId": "bae4c79a-03b8-423d-abe1-b563bd6e96d1"
      },
      "outputs": [
        {
          "output_type": "stream",
          "name": "stdout",
          "text": [
            "                                           id  ...                                             token0\n",
            "0  0x00004ee988665cdda9a1080d5792cecd16dc1220  ...  {'id': '0x4d44d6c288b7f32ff676a4b2dafd625992f8...\n",
            "1  0x0000871c95bb027c90089f4926fd1ba82cdd9a8b  ...  {'id': '0x5152e1cb69a2ffa3997e89cbb4aba76a01d8...\n",
            "2  0x00030110a7053083a7a160449a0e8f1adce9438d  ...  {'id': '0x65f9a292f1aeed5d755aa2fd2fb17ab2e943...\n",
            "3  0x00031554ee74e4a6d497677e5152d94c3dbe5f46  ...  {'id': '0x59c8c614bcf74041143710ec09e5837d9383...\n",
            "4  0x0003713f74bc8c3435f4499eb0cbc6298cd1529d  ...  {'id': '0x2432c78801380ba2538f9bddf65c81d525e6...\n",
            "5  0x00048cf1acdb5fa81a0facf869ef60c3f49bfe36  ...  {'id': '0x34c3f50e408abac32436d7f744f89379e5c2...\n",
            "6  0x0004ecc9fdb2dac546a215abeb7ce73439f96cd1  ...  {'id': '0x171f9cfc136f2b2aaa148fcc6b660a2029ba...\n",
            "7  0x0005ee2ef3f313ae168451ef8174b4fcc508819f  ...  {'id': '0x1a5f9352af8af974bfc03399e3767df6370d...\n",
            "8  0x0006bc3e52137a1873d7d8cd779a7e138bb7e929  ...  {'id': '0x1828e7a548bbd4a90ac74e0b411503512dd2...\n",
            "9  0x000a7f585c99791e49fa75fdbfbc8588a1f6ffc8  ...  {'id': '0xa06f6870b254a9ad05e27ac93168d9c8f6d4...\n",
            "\n",
            "[10 rows x 5 columns]\n"
          ]
        }
      ],
      "source": [
        "import requests\n",
        "import json\n",
        "import pandas as pd\n",
        "\n",
        "# set endpoint url in here 'https://api.thegraph.com/subgraphs/api/[api-key]/[Subgraph you want to Query]'\n",
        "url = 'https://api.thegraph.com/subgraphs/name/uniswap/uniswap-v2'\n",
        "# define query\n",
        "query = '''{\n",
        "  pairs(first:10) {\n",
        "     id\n",
        "    token0 {\n",
        "      id\n",
        "    }\n",
        "    reserve0\n",
        "    reserveETH\n",
        "    reserveUSD\n",
        "  \n",
        "  }\n",
        "}'''\n",
        "# make the request\n",
        "r = requests.post(url, json={'query': query})\n",
        "# load result into json\n",
        "json_data = json.loads(r.text)\n",
        "# convert json into a dataframe\n",
        "df = pd.DataFrame(json_data['data']['pairs'])\n",
        "# check result\n",
        "print(df)\n",
        "\n",
        "# writing data to csv\n",
        "df.iloc[:,0:4].to_csv(\"fetchedData.csv\", index=False)"
      ]
    }
  ]
}